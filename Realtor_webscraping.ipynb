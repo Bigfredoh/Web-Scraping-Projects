{
 "cells": [
  {
   "cell_type": "code",
   "execution_count": 8,
   "id": "4afc83e2",
   "metadata": {},
   "outputs": [],
   "source": [
    "import requests\n",
    "import pandas as pd"
   ]
  },
  {
   "cell_type": "code",
   "execution_count": 15,
   "id": "34486f0d",
   "metadata": {},
   "outputs": [],
   "source": [
    "import requests\n",
    "\n",
    "headers = {\n",
    "    'authority': 'onlyfinder.com',\n",
    "    'accept': 'application/json',\n",
    "    'accept-language': 'en-US,en;q=0.9',\n",
    "    'cache-control': 'no-cache',\n",
    "    'content-type': 'application/json',\n",
    "    'cookie': 'cf_chl_2=09ff722272ca5e5; cf_chl_prog=x14; cf_clearance=S_Zs4quSpsnfOmIGqB78G7NwNYnC7pKXo3FafWnyGEE-1652243809-0-150; _gcl_au=1.1.532678281.1652243811; _gid=GA1.2.615686570.1652243812; __cflb=0pg1QrBBkxptVpUDS6gsRmjSafgBstd46fhgLEyq; __cf_bm=Nj3I3sgLLJ_YostOBBwgPembHeN07RHpNiWgYuhduvw-1652243815-0-AZzqpJrEOwhwkjXYhhGM4S29NCkh3AVGx8a0TDvekNcmDX6HOCK2jVx/JvXq5OT8N7J326VkLdPm0bJ1nhnmYEfatsPmA1nO3mm4xkEzy7zTjqAsEtHy6S23jOGZ504qAA==; _ga_1PB9XEPVWM=GS1.1.1652243809.1.1.1652243891.60; _ga=GA1.1.188414079.1652243811',\n",
    "    'pragma': 'no-cache',\n",
    "    'referer': 'https://onlyfinder.com/best-onlyfans/top/',\n",
    "    'sec-ch-ua': '^\\\\^',\n",
    "    'sec-ch-ua-mobile': '?0',\n",
    "    'sec-ch-ua-platform': '^\\\\^Windows^\\\\^',\n",
    "    'sec-fetch-dest': 'empty',\n",
    "    'sec-fetch-mode': 'cors',\n",
    "    'sec-fetch-site': 'same-origin',\n",
    "    'user-agent': 'Mozilla/5.0 (Windows NT 10.0; Win64; x64) AppleWebKit/537.36 (KHTML, like Gecko) Chrome/101.0.4951.54 Safari/537.36',\n",
    "    'x-bc': '25fbf06f',\n",
    "    'x-requested-with': 'XMLHttpRequest',\n",
    "}\n",
    "\n",
    "params = (\n",
    "    ('q', 'best^%^20onlyfans'),\n",
    "    ('ranks', 'true'),\n",
    "    ('sort', 'likes'),\n",
    "    ('start', '0'),\n",
    "    ('first', 'true'),\n",
    ")\n",
    "\n",
    "response = requests.get('https://onlyfinder.com/json/search', headers=headers, params=params)\n",
    "\n",
    "#NB. Original query string below. It seems impossible to parse and\n",
    "#reproduce query strings 100% accurately so the one below is given\n",
    "#in case the reproduced version is not \"correct\".\n",
    "# response = requests.get('https://onlyfinder.com/json/search?q=best^%^20onlyfans&ranks=true&sort=likes&start=0&first=true', headers=headers)\n"
   ]
  },
  {
   "cell_type": "code",
   "execution_count": 16,
   "id": "423dc591",
   "metadata": {},
   "outputs": [
    {
     "data": {
      "text/plain": [
       "<Response [403]>"
      ]
     },
     "execution_count": 16,
     "metadata": {},
     "output_type": "execute_result"
    }
   ],
   "source": [
    "response"
   ]
  },
  {
   "cell_type": "code",
   "execution_count": 13,
   "id": "a67442f0",
   "metadata": {},
   "outputs": [],
   "source": [
    "import requests\n",
    "\n",
    "headers = {\n",
    "    'authority': 'footballapi.pulselive.com',\n",
    "    'accept': '*/*',\n",
    "    'accept-language': 'en-US,en;q=0.9',\n",
    "    'cache-control': 'no-cache',\n",
    "    'content-type': 'application/x-www-form-urlencoded; charset=UTF-8',\n",
    "    'origin': 'https://www.premierleague.com',\n",
    "    'pragma': 'no-cache',\n",
    "    'referer': 'https://www.premierleague.com/',\n",
    "    'sec-ch-ua': '^\\\\^',\n",
    "    'sec-ch-ua-mobile': '?0',\n",
    "    'sec-ch-ua-platform': '^\\\\^Windows^\\\\^',\n",
    "    'sec-fetch-dest': 'empty',\n",
    "    'sec-fetch-mode': 'cors',\n",
    "    'sec-fetch-site': 'cross-site',\n",
    "    'user-agent': 'Mozilla/5.0 (Windows NT 10.0; Win64; x64) AppleWebKit/537.36 (KHTML, like Gecko) Chrome/101.0.4951.54 Safari/537.36',\n",
    "}\n",
    "\n",
    "params = (\n",
    "    ('pageSize', '30'),\n",
    "    ('compSeasons', '418'),\n",
    "    ('altIds', 'true'),\n",
    "    ('page', '0'),\n",
    "    ('type', 'player'),\n",
    "    ('id', '-1'),\n",
    "    ('compSeasonId', '418'),\n",
    ")\n",
    "\n",
    "response = requests.get('https://footballapi.pulselive.com/football/players', headers=headers, params=params)\n",
    "\n",
    "#NB. Original query string below. It seems impossible to parse and\n",
    "#reproduce query strings 100% accurately so the one below is given\n",
    "#in case the reproduced version is not \"correct\".\n",
    "# response = requests.get('https://footballapi.pulselive.com/football/players?pageSize=30&compSeasons=418&altIds=true&page=0&type=player&id=-1&compSeasonId=418', headers=headers)\n"
   ]
  },
  {
   "cell_type": "code",
   "execution_count": 14,
   "id": "278c8807",
   "metadata": {},
   "outputs": [
    {
     "data": {
      "text/plain": [
       "<Response [200]>"
      ]
     },
     "execution_count": 14,
     "metadata": {},
     "output_type": "execute_result"
    }
   ],
   "source": [
    "response"
   ]
  },
  {
   "cell_type": "code",
   "execution_count": 8,
   "id": "5321f222",
   "metadata": {},
   "outputs": [],
   "source": [
    "results_json = response.json()"
   ]
  },
  {
   "cell_type": "code",
   "execution_count": 9,
   "id": "c10508cd",
   "metadata": {},
   "outputs": [
    {
     "data": {
      "text/plain": [
       "dict_keys(['ErrorCode', 'Paging', 'Results', 'Pins', 'GroupingLevel'])"
      ]
     },
     "execution_count": 9,
     "metadata": {},
     "output_type": "execute_result"
    }
   ],
   "source": [
    "results_json.keys()"
   ]
  },
  {
   "cell_type": "markdown",
   "id": "11b6069e",
   "metadata": {},
   "source": [
    "## Find data\n",
    "1. Address\n",
    "2. Bedrooms\n",
    "3. Bathrooms\n",
    "4. Agent name\n",
    "5. Area code\n",
    "6. Phone number\n",
    "7. Price"
   ]
  },
  {
   "cell_type": "code",
   "execution_count": 12,
   "id": "f4df73be",
   "metadata": {},
   "outputs": [],
   "source": [
    "# Starting point\n",
    "result_items = results_json['Results']"
   ]
  },
  {
   "cell_type": "code",
   "execution_count": 17,
   "id": "76f1ddce",
   "metadata": {},
   "outputs": [
    {
     "data": {
      "text/plain": [
       "'357 JIM BARR ROAD|Renfrew, Ontario K7V3Z8'"
      ]
     },
     "execution_count": 17,
     "metadata": {},
     "output_type": "execute_result"
    }
   ],
   "source": [
    "# Address\n",
    "result_items[0]['Property']['Address']['AddressText']"
   ]
  },
  {
   "cell_type": "code",
   "execution_count": 19,
   "id": "c80a6ffa",
   "metadata": {},
   "outputs": [
    {
     "data": {
      "text/plain": [
       "'3 + 1'"
      ]
     },
     "execution_count": 19,
     "metadata": {},
     "output_type": "execute_result"
    }
   ],
   "source": [
    "# Bedrooms\n",
    "result_items[0]['Building']['Bedrooms']"
   ]
  },
  {
   "cell_type": "code",
   "execution_count": 42,
   "id": "0efb8334",
   "metadata": {},
   "outputs": [
    {
     "data": {
      "text/plain": [
       "'2'"
      ]
     },
     "execution_count": 42,
     "metadata": {},
     "output_type": "execute_result"
    }
   ],
   "source": [
    "# Bathrooms\n",
    "result_items[0]['Building']['BathroomTotal']"
   ]
  },
  {
   "cell_type": "code",
   "execution_count": 26,
   "id": "85e3d67b",
   "metadata": {},
   "outputs": [
    {
     "data": {
      "text/plain": [
       "'Dennis Yakaback'"
      ]
     },
     "execution_count": 26,
     "metadata": {},
     "output_type": "execute_result"
    }
   ],
   "source": [
    "# Agent name\n",
    "result_items[0]['Individual'][0]['Name']"
   ]
  },
  {
   "cell_type": "code",
   "execution_count": 32,
   "id": "6bae6f51",
   "metadata": {},
   "outputs": [
    {
     "data": {
      "text/plain": [
       "'613'"
      ]
     },
     "execution_count": 32,
     "metadata": {},
     "output_type": "execute_result"
    }
   ],
   "source": [
    "# Area code\n",
    "result_items[0]['Individual'][0]['Phones'][0]['AreaCode']"
   ]
  },
  {
   "cell_type": "code",
   "execution_count": 34,
   "id": "bfcdd3c8",
   "metadata": {},
   "outputs": [
    {
     "data": {
      "text/plain": [
       "'432-0041'"
      ]
     },
     "execution_count": 34,
     "metadata": {},
     "output_type": "execute_result"
    }
   ],
   "source": [
    "# Phone number\n",
    "result_items[0]['Individual'][0]['Phones'][0]['PhoneNumber']"
   ]
  },
  {
   "cell_type": "code",
   "execution_count": 37,
   "id": "5aaeb69c",
   "metadata": {},
   "outputs": [
    {
     "data": {
      "text/plain": [
       "'$499,900'"
      ]
     },
     "execution_count": 37,
     "metadata": {},
     "output_type": "execute_result"
    }
   ],
   "source": [
    "# Price\n",
    "result_items[0]['Property']['Price']"
   ]
  },
  {
   "cell_type": "code",
   "execution_count": 44,
   "id": "70b56e54",
   "metadata": {},
   "outputs": [],
   "source": [
    "address = []\n",
    "bedrooms = []\n",
    "bathrooms = []\n",
    "agent_name = []\n",
    "area_code = []\n",
    "phone_number = []\n",
    "price = []\n",
    "\n",
    "for result in result_items:\n",
    "    # address\n",
    "    try:\n",
    "        address.append(result['Property']['Address']['AddressText'])\n",
    "    except:\n",
    "        address.append('')\n",
    "    \n",
    "    # bedrooms\n",
    "    try:\n",
    "        bedrooms.append(result['Building']['BathroomTotal'])\n",
    "    except:\n",
    "        bedrooms.append('')\n",
    "    # bathrooms\n",
    "    try:\n",
    "        bathrooms.append(result['Building']['BathroomTotal'])\n",
    "    except:\n",
    "        bathrooms.append('')\n",
    "    # agent name\n",
    "    try:\n",
    "        agent_name.append(result['Individual'][0]['Name'])\n",
    "    except:\n",
    "        agent_name.append('')\n",
    "    # area code\n",
    "    try:\n",
    "        area_code.append(result['Individual'][0]['Phones'][0]['AreaCode'])\n",
    "    except:\n",
    "        area_code.append('')\n",
    "    # phone number\n",
    "    try:\n",
    "        phone_number.append(result['Individual'][0]['Phones'][0]['PhoneNumber'])\n",
    "    except:\n",
    "        phone_number.append('')\n",
    "    # price\n",
    "    try:\n",
    "        price.append(result['Property']['Price'])\n",
    "    except:\n",
    "        price.append('')"
   ]
  },
  {
   "cell_type": "code",
   "execution_count": 45,
   "id": "c85554f6",
   "metadata": {},
   "outputs": [
    {
     "data": {
      "text/html": [
       "<div>\n",
       "<style scoped>\n",
       "    .dataframe tbody tr th:only-of-type {\n",
       "        vertical-align: middle;\n",
       "    }\n",
       "\n",
       "    .dataframe tbody tr th {\n",
       "        vertical-align: top;\n",
       "    }\n",
       "\n",
       "    .dataframe thead th {\n",
       "        text-align: right;\n",
       "    }\n",
       "</style>\n",
       "<table border=\"1\" class=\"dataframe\">\n",
       "  <thead>\n",
       "    <tr style=\"text-align: right;\">\n",
       "      <th></th>\n",
       "      <th>address</th>\n",
       "      <th>bedrooms</th>\n",
       "      <th>bathrooms</th>\n",
       "      <th>agent_name</th>\n",
       "      <th>area_code</th>\n",
       "      <th>phone_number</th>\n",
       "      <th>price</th>\n",
       "    </tr>\n",
       "  </thead>\n",
       "  <tbody>\n",
       "    <tr>\n",
       "      <th>0</th>\n",
       "      <td>357 JIM BARR ROAD|Renfrew, Ontario K7V3Z8</td>\n",
       "      <td>2</td>\n",
       "      <td>2</td>\n",
       "      <td>Dennis Yakaback</td>\n",
       "      <td>613</td>\n",
       "      <td>432-0041</td>\n",
       "      <td>$499,900</td>\n",
       "    </tr>\n",
       "    <tr>\n",
       "      <th>1</th>\n",
       "      <td>50 Rue Dussault|#804|Gatineau (Hull), Quebec J...</td>\n",
       "      <td>1</td>\n",
       "      <td>1</td>\n",
       "      <td>Richard Larose</td>\n",
       "      <td>819</td>\n",
       "      <td>360-6888</td>\n",
       "      <td>$325,000</td>\n",
       "    </tr>\n",
       "    <tr>\n",
       "      <th>2</th>\n",
       "      <td>595 Rue Lahaie|Gatineau (Gatineau), Quebec J8R2V8</td>\n",
       "      <td>1</td>\n",
       "      <td>1</td>\n",
       "      <td>Mélanie Cyr</td>\n",
       "      <td>819</td>\n",
       "      <td>246-0969</td>\n",
       "      <td>$359,900</td>\n",
       "    </tr>\n",
       "    <tr>\n",
       "      <th>3</th>\n",
       "      <td>9 Ch. de la Rivière|La Pêche, Quebec J0X3G0</td>\n",
       "      <td></td>\n",
       "      <td></td>\n",
       "      <td>Steve Waters</td>\n",
       "      <td>613</td>\n",
       "      <td>889-2580</td>\n",
       "      <td>$249,900</td>\n",
       "    </tr>\n",
       "    <tr>\n",
       "      <th>4</th>\n",
       "      <td>641 BURTON AVENUE|Cornwall, Ontario K6J3Y5</td>\n",
       "      <td>2</td>\n",
       "      <td>2</td>\n",
       "      <td>Abid Hussain</td>\n",
       "      <td>613</td>\n",
       "      <td>700-4987</td>\n",
       "      <td>$399,900</td>\n",
       "    </tr>\n",
       "    <tr>\n",
       "      <th>5</th>\n",
       "      <td>295 BELL STREET S|Ottawa, Ontario K1S4J9</td>\n",
       "      <td>2</td>\n",
       "      <td>2</td>\n",
       "      <td>Burhan Celik</td>\n",
       "      <td>613</td>\n",
       "      <td>400-9897</td>\n",
       "      <td>$829,000</td>\n",
       "    </tr>\n",
       "    <tr>\n",
       "      <th>6</th>\n",
       "      <td>252 PONDEROSA ST|Ottawa, Ontario K2V0K9</td>\n",
       "      <td>3</td>\n",
       "      <td>3</td>\n",
       "      <td>ZAMAN BAHMAN</td>\n",
       "      <td>905</td>\n",
       "      <td>265-0100</td>\n",
       "      <td>$1,025,000</td>\n",
       "    </tr>\n",
       "    <tr>\n",
       "      <th>7</th>\n",
       "      <td>470 PLEASANT PARK ROAD|Ottawa, Ontario K1H5N1</td>\n",
       "      <td>3</td>\n",
       "      <td>3</td>\n",
       "      <td>Siyamak Sasani</td>\n",
       "      <td>613</td>\n",
       "      <td>762-2100</td>\n",
       "      <td>$899,900</td>\n",
       "    </tr>\n",
       "    <tr>\n",
       "      <th>8</th>\n",
       "      <td>149 SPRINGBEAUTY AVENUE|Nepean, Ontario K2J5A3</td>\n",
       "      <td>4</td>\n",
       "      <td>4</td>\n",
       "      <td>Michael Mah</td>\n",
       "      <td>613</td>\n",
       "      <td>806-6288</td>\n",
       "      <td>$699,900</td>\n",
       "    </tr>\n",
       "    <tr>\n",
       "      <th>9</th>\n",
       "      <td>138 STEEPLE CHASE DR|Ottawa, Ontario K2M2W6</td>\n",
       "      <td>4</td>\n",
       "      <td>4</td>\n",
       "      <td>VAHESAN SRIRAJASINGAM</td>\n",
       "      <td>905</td>\n",
       "      <td>201-9977</td>\n",
       "      <td>$1,459,000</td>\n",
       "    </tr>\n",
       "    <tr>\n",
       "      <th>10</th>\n",
       "      <td>17 EMMA STREET|Chesterville, Ontario K0C1H0</td>\n",
       "      <td>2</td>\n",
       "      <td>2</td>\n",
       "      <td>Maureen Grady</td>\n",
       "      <td>613</td>\n",
       "      <td>612-9683</td>\n",
       "      <td>$449,995</td>\n",
       "    </tr>\n",
       "    <tr>\n",
       "      <th>11</th>\n",
       "      <td>125 CARROLL Road|Smiths Falls, Ontario K7A4S4</td>\n",
       "      <td></td>\n",
       "      <td></td>\n",
       "      <td>JAS DHILLON</td>\n",
       "      <td>519</td>\n",
       "      <td>697-1508</td>\n",
       "      <td>$189,000</td>\n",
       "    </tr>\n",
       "  </tbody>\n",
       "</table>\n",
       "</div>"
      ],
      "text/plain": [
       "                                              address bedrooms  bathrooms  \\\n",
       "0           357 JIM BARR ROAD|Renfrew, Ontario K7V3Z8        2          2   \n",
       "1   50 Rue Dussault|#804|Gatineau (Hull), Quebec J...        1          1   \n",
       "2   595 Rue Lahaie|Gatineau (Gatineau), Quebec J8R2V8        1          1   \n",
       "3         9 Ch. de la Rivière|La Pêche, Quebec J0X3G0                       \n",
       "4          641 BURTON AVENUE|Cornwall, Ontario K6J3Y5        2          2   \n",
       "5            295 BELL STREET S|Ottawa, Ontario K1S4J9        2          2   \n",
       "6             252 PONDEROSA ST|Ottawa, Ontario K2V0K9        3          3   \n",
       "7       470 PLEASANT PARK ROAD|Ottawa, Ontario K1H5N1        3          3   \n",
       "8      149 SPRINGBEAUTY AVENUE|Nepean, Ontario K2J5A3        4          4   \n",
       "9         138 STEEPLE CHASE DR|Ottawa, Ontario K2M2W6        4          4   \n",
       "10        17 EMMA STREET|Chesterville, Ontario K0C1H0        2          2   \n",
       "11      125 CARROLL Road|Smiths Falls, Ontario K7A4S4                       \n",
       "\n",
       "               agent_name area_code  phone_number       price  \n",
       "0         Dennis Yakaback       613      432-0041    $499,900  \n",
       "1          Richard Larose       819      360-6888    $325,000  \n",
       "2             Mélanie Cyr       819      246-0969    $359,900  \n",
       "3            Steve Waters       613      889-2580    $249,900  \n",
       "4            Abid Hussain       613      700-4987    $399,900  \n",
       "5            Burhan Celik       613      400-9897    $829,000  \n",
       "6            ZAMAN BAHMAN       905      265-0100  $1,025,000  \n",
       "7          Siyamak Sasani       613      762-2100    $899,900  \n",
       "8             Michael Mah       613      806-6288    $699,900  \n",
       "9   VAHESAN SRIRAJASINGAM       905      201-9977  $1,459,000  \n",
       "10          Maureen Grady       613      612-9683    $449,995  \n",
       "11            JAS DHILLON       519      697-1508    $189,000  "
      ]
     },
     "execution_count": 45,
     "metadata": {},
     "output_type": "execute_result"
    }
   ],
   "source": [
    "realtor_df = pd.DataFrame({'address':address, 'bedrooms':bedrooms, ' bathrooms': bathrooms, ' agent_name': agent_name,\n",
    "                   'area_code':area_code, ' phone_number': phone_number, 'price':price})\n",
    "realtor_df"
   ]
  },
  {
   "cell_type": "markdown",
   "id": "9c60d257",
   "metadata": {},
   "source": [
    "## Scraping multiple pages"
   ]
  },
  {
   "cell_type": "code",
   "execution_count": 46,
   "id": "f215e32a",
   "metadata": {},
   "outputs": [],
   "source": [
    "address = []\n",
    "bedrooms = []\n",
    "bathrooms = []\n",
    "agent_name = []\n",
    "area_code = []\n",
    "phone_number = []\n",
    "price = []\n",
    "\n",
    "for i in range(1,51):\n",
    "    headers = {\n",
    "        'authority': 'api2.realtor.ca',\n",
    "        'accept': '*/*',\n",
    "        'accept-language': 'en-US,en;q=0.9',\n",
    "        'content-type': 'application/x-www-form-urlencoded; charset=UTF-8',\n",
    "        'cookie': 'visid_incap_2269415=IgAQCgoKSgGqFvL2SkYvF/eGZmIAAAAAQUIPAAAAAAC2lHWcof4meEZ/TX7WcP9Z; nlbi_2269415=zAzwZGk6c3o6nx6EkG5lugAAAADuKgvPW9imb0ilvZu6yNLm; incap_ses_1096_2269415=SB9hKii+zFUdN/9b98Y1D/iGZmIAAAAAQAqzV85sGXTX0GBNoLwudA==; incap_ses_1095_2269415=2hixMv9ML1uEqWtjdjkyD/yGZmIAAAAAqNk7PuAWJPFjJW0vUgqF9g==; _gid=GA1.2.1331108054.1650886408; gig_bootstrap_3_mrQiIl6ov44s2X3j6NGWVZ9SDDtplqV7WgdcyEpGYnYxl7ygDWPQHqQqtpSiUfko=gigya-pr_ver4; _fbp=fb.1.1650886417620.746432236; visid_incap_2271082=+IDHnMhRTvaxDTZs7VcOjUyHZmIAAAAAQUIPAAAAAACH0Cx31z6scE9si3d34d2w; ASP.NET_SessionId=hqkzje1wtjf3iufwyykhlob1; nlbi_2271082=7eRwKlFsDUSpYsoncbDG1QAAAADrzQg6KwOc7oAYi/K1+1b2; incap_ses_1095_2271082=yqWWBAw/kk0GFGxjdjkyD02HZmIAAAAAzC8gLf5cwZTd/bxzNN7wLg==; incap_ses_1096_2271082=8NAjd1VN1T4KNwBc98Y1D6SHZmIAAAAAVps6fNrkjsBXhDmd9lJaXQ==; nlbi_2271082_2147483392=RF9yA6HCKA388UywcbDG1QAAAADi2aHBluh4JU4DC4tIYVPy; reese84=3:lQWMvFDESQgP6qMqaplOJw==:MrvvWnq+6qfuFmYDRNYGMW4P+jYg+HJxLrgI4vQ/CWwDAGIfUr4bwWJKfw3xh4wpTI0FKJJnJO7Upco2ieGILNhToSWErR945LJiA8mUCzuPoPZqKcyzg2u3PTdad00FEeIuEOURGaWE4gIyyUByXaCFeCNBFQH3fb3ZqRiB1jP8VlfZWT6/BJLyu8PuseDdTEgmj6tVZnb0cvXl1+mKXiZz8AP77YCHFUb/hNue1bi/vzi4bdmkw482iJOjYNp95zHTCF/evy9tPiChNPAwkk8yH1XwGDdn6APASH6bGTy/XqxxpGiIuaKE4wEUEz1NDq5+scS/j3rT+G6HrPVuYecVDN26+aeimL3f/L2uTLrjaGrZcnm1Sblm07BTfnUdXzvmvUiBFYB3R6FpWGwEP/EcHolUaG94rqE9Py05lhyIWd64bYM8tMBTwQxxDNxj:b/hIiI6o4SOycdBUySRpCqJqZ1kvk51W4OU+Yq2BZKM=; _dc_gtm_UA-12908513-11=1; reese84=3:cdYYggRl4mDcARTcpzIVVQ==:/u57T06svlodhe2PdWaTCrqRTE6bcSMOAxvJUwpaoFPaywVR/+kB9dBdTg8HeUS9BTH7X2MV9CV+27xaT15t2dsX0a8GoiLnKMaFF3a7ymrAyggiGn7EbTFqF/RVwnmrADcJTrybhXTWgmk2r7T0/zVtxxCVMpimHkBXU4D21Rch0kkyyRjk5qXFHIAYuRzbuyHiLoMexpRVUO+7NAkAY1bNS8rB3fekv1g/8YH2HfbXstIUt3dH1Nzl5KXU0yG7ARtEHeWjXUOvENcHnB5NySepoiIJJVT8MCYQ7+X3YoXIvp//PdVX4iME0YBDvJZQu4h3NwfUP1kalxSEhX70Hx2DddO7E/XMUJVv94GDmdTzLmG6KFpTOQFfnTDscdAgDxUTg5IJFGNee53zNdB2wCwGl048defj+HLjDWg0pmc=:rptOpPY3fSOWopZX5g+/kIeb/ZsD1fkh4gxSO5XbQaU=; _ga=GA1.2.909299031.1650886408; nlbi_2269415_2147483392=EKqTfC/HsGIvDebskG5lugAAAABIAnmRfGsxjGR/yk5hXsim; _4c_=^%^7B^%^22_4c_s_^%^22^%^3A^%^22dVLbitswEP2VoOfIkXzRJW9LFspCKaVQ^%^2Bhgca2yLOJaRlbjb4H^%^2FvyMlm2V78YI^%^2FOzDkjz5krmVroyZaLgiklU5mprFiTI7yOZHsl3pr4uZAtYSIFLuqKag1A81JyqrgsaSqNqXgm00IVZE1^%^2BLlpKiDTnQqV8XpNquGtcSeUMoBbXCc8Tzmg9IiX8QkgwjAbvzLkK^%^2B^%^2FA6xLIJDqvRHDFh4GIr2E^%^2FWhDbyM6He0RZs0waENU8jOniMYzTZ3rjpT9YdfbCk4IgevJtGiMxd690JVpzFGzkcA^%^2FmxMOJVPdTg^%^2FVLWhjCM281mmqakca7pIKncaYNFow3x9h7KLjifVOUdw6G^%^2Bw3SBP5d9cy6bZSbx6JoGzOoFDSF12Y2A2FfvLravYgmedu7cBx91vtgGvI0i32C0Bvpgy875nTudEK^%^2FKbun1yMTpRhujR53DdBRE59f4ivjgDcafnvbfX57jKJlOtWYZT26bIXKmyPxmL9MyEzJjHFclBOwU8^%^2FGZb10Wt4uP1VwJ^%^2FXe1gfEY3EDfpgL9^%^2F^%^2FnyH90u9rGfBRwKIzJasjqluWKCHkwhqDQafa9TKVX22E^%^2F8I80k11reJbm6Kc7zbw^%^3D^%^3D^%^22^%^7D; _ga_Y07J3B53QP=GS1.1.1650886407.1.1.1650887285.36; _gali=ListViewPagination_Bottom',\n",
    "        'origin': 'https://www.realtor.ca',\n",
    "        'referer': 'https://www.realtor.ca/',\n",
    "        'sec-ch-ua': '^\\\\^',\n",
    "        'sec-ch-ua-mobile': '?0',\n",
    "        'sec-ch-ua-platform': '^\\\\^Windows^\\\\^',\n",
    "        'sec-fetch-dest': 'empty',\n",
    "        'sec-fetch-mode': 'cors',\n",
    "        'sec-fetch-site': 'same-site',\n",
    "        'user-agent': 'Mozilla/5.0 (Windows NT 10.0; Win64; x64) AppleWebKit/537.36 (KHTML, like Gecko) Chrome/100.0.4896.75 Safari/537.36',\n",
    "    }\n",
    "\n",
    "    data = {\n",
    "      'ZoomLevel': '9',\n",
    "      'LatitudeMax': '45.81692',\n",
    "      'LongitudeMax': '-74.50768',\n",
    "      'LatitudeMin': '44.67802',\n",
    "      'LongitudeMin': '-77.09222',\n",
    "      'Sort': '6-D',\n",
    "      'PropertyTypeGroupID': '1',\n",
    "      'PropertySearchTypeId': '1',\n",
    "      'TransactionTypeId': '2',\n",
    "      'Currency': 'CAD',\n",
    "      'RecordsPerPage': '12',\n",
    "      'ApplicationId': '1',\n",
    "      'CultureId': '1',\n",
    "      'Version': '7.0',\n",
    "      'CurrentPage': str(i)\n",
    "    }\n",
    "    # response\n",
    "\n",
    "    response = requests.post('https://api2.realtor.ca/Listing.svc/PropertySearch_Post', headers=headers, data=data)\n",
    "    # create a json object\n",
    "    results_json = response.json()\n",
    "    # result items\n",
    "    result_items = results_json['Results']\n",
    "    \n",
    "    for result in result_items:\n",
    "    # address\n",
    "        try:\n",
    "            address.append(result['Property']['Address']['AddressText'])\n",
    "        except:\n",
    "            address.append('')\n",
    "\n",
    "        # bedrooms\n",
    "        try:\n",
    "            bedrooms.append(result['Building']['BathroomTotal'])\n",
    "        except:\n",
    "            bedrooms.append('')\n",
    "        # bathrooms\n",
    "        try:\n",
    "            bathrooms.append(result['Building']['BathroomTotal'])\n",
    "        except:\n",
    "            bathrooms.append('')\n",
    "        # agent name\n",
    "        try:\n",
    "            agent_name.append(result['Individual'][0]['Name'])\n",
    "        except:\n",
    "            agent_name.append('')\n",
    "        # area code\n",
    "        try:\n",
    "            area_code.append(result['Individual'][0]['Phones'][0]['AreaCode'])\n",
    "        except:\n",
    "            area_code.append('')\n",
    "        # phone number\n",
    "        try:\n",
    "            phone_number.append(result['Individual'][0]['Phones'][0]['PhoneNumber'])\n",
    "        except:\n",
    "            phone_number.append('')\n",
    "        # price\n",
    "        try:\n",
    "            price.append(result['Property']['Price'])\n",
    "        except:\n",
    "            price.append('')\n"
   ]
  },
  {
   "cell_type": "code",
   "execution_count": 48,
   "id": "c73d07a8",
   "metadata": {},
   "outputs": [
    {
     "data": {
      "text/html": [
       "<div>\n",
       "<style scoped>\n",
       "    .dataframe tbody tr th:only-of-type {\n",
       "        vertical-align: middle;\n",
       "    }\n",
       "\n",
       "    .dataframe tbody tr th {\n",
       "        vertical-align: top;\n",
       "    }\n",
       "\n",
       "    .dataframe thead th {\n",
       "        text-align: right;\n",
       "    }\n",
       "</style>\n",
       "<table border=\"1\" class=\"dataframe\">\n",
       "  <thead>\n",
       "    <tr style=\"text-align: right;\">\n",
       "      <th></th>\n",
       "      <th>address</th>\n",
       "      <th>bedrooms</th>\n",
       "      <th>bathrooms</th>\n",
       "      <th>agent_name</th>\n",
       "      <th>area_code</th>\n",
       "      <th>phone_number</th>\n",
       "      <th>price</th>\n",
       "    </tr>\n",
       "  </thead>\n",
       "  <tbody>\n",
       "    <tr>\n",
       "      <th>0</th>\n",
       "      <td>23 KENT STREET|Smiths Falls, Ontario K7A1B5</td>\n",
       "      <td>2</td>\n",
       "      <td>2</td>\n",
       "      <td>Kaleigh Duchene</td>\n",
       "      <td>613</td>\n",
       "      <td>803-1996</td>\n",
       "      <td>$349,900</td>\n",
       "    </tr>\n",
       "    <tr>\n",
       "      <th>1</th>\n",
       "      <td>68 A ST LAWRENCE STREET|Morrisburg, Ontario K0...</td>\n",
       "      <td>2</td>\n",
       "      <td>2</td>\n",
       "      <td>JANET EATON</td>\n",
       "      <td>613</td>\n",
       "      <td>341-1501</td>\n",
       "      <td>$495,000</td>\n",
       "    </tr>\n",
       "    <tr>\n",
       "      <th>2</th>\n",
       "      <td>146 ELK STREET|Renfrew, Ontario K7V0A1</td>\n",
       "      <td>2</td>\n",
       "      <td>2</td>\n",
       "      <td>Helen Vincent</td>\n",
       "      <td>613</td>\n",
       "      <td>432-0058</td>\n",
       "      <td>$429,900</td>\n",
       "    </tr>\n",
       "    <tr>\n",
       "      <th>3</th>\n",
       "      <td>110 MOONSTONE ROAD|Ottawa, Ontario K0A1L0</td>\n",
       "      <td>2</td>\n",
       "      <td>2</td>\n",
       "      <td>Chen Lung Chen</td>\n",
       "      <td>613</td>\n",
       "      <td>407-9999</td>\n",
       "      <td>$799,000</td>\n",
       "    </tr>\n",
       "    <tr>\n",
       "      <th>4</th>\n",
       "      <td>280 PERCHERON WAY|Ottawa, Ontario K2S1E7</td>\n",
       "      <td>5</td>\n",
       "      <td>5</td>\n",
       "      <td>Sarah Hunter</td>\n",
       "      <td>613</td>\n",
       "      <td>889-0171</td>\n",
       "      <td>$1,450,000</td>\n",
       "    </tr>\n",
       "    <tr>\n",
       "      <th>...</th>\n",
       "      <td>...</td>\n",
       "      <td>...</td>\n",
       "      <td>...</td>\n",
       "      <td>...</td>\n",
       "      <td>...</td>\n",
       "      <td>...</td>\n",
       "      <td>...</td>\n",
       "    </tr>\n",
       "    <tr>\n",
       "      <th>595</th>\n",
       "      <td>996 WEEDMARK ROAD|Jasper, Ontario K0G1G0</td>\n",
       "      <td>0</td>\n",
       "      <td>0</td>\n",
       "      <td>Lisa Ritskes</td>\n",
       "      <td>613</td>\n",
       "      <td>285-6611</td>\n",
       "      <td>$349,900</td>\n",
       "    </tr>\n",
       "    <tr>\n",
       "      <th>596</th>\n",
       "      <td>135 OAK LANE|Perth, Ontario K7H3C8</td>\n",
       "      <td>2</td>\n",
       "      <td>2</td>\n",
       "      <td>Patti Smith</td>\n",
       "      <td>613</td>\n",
       "      <td>866-1014</td>\n",
       "      <td>$725,000</td>\n",
       "    </tr>\n",
       "    <tr>\n",
       "      <th>597</th>\n",
       "      <td>328 TOURING WAY|Ottawa, Ontario K2J6P1</td>\n",
       "      <td>3</td>\n",
       "      <td>3</td>\n",
       "      <td>Dimitrios Kalogeropoulos</td>\n",
       "      <td>613</td>\n",
       "      <td>883-8823</td>\n",
       "      <td>$788,800</td>\n",
       "    </tr>\n",
       "    <tr>\n",
       "      <th>598</th>\n",
       "      <td>3-3399 PAUL ANKA DRIVE|Ottawa, Ontario K1V9R8</td>\n",
       "      <td>2</td>\n",
       "      <td>2</td>\n",
       "      <td>Bryce Munro</td>\n",
       "      <td>613</td>\n",
       "      <td>276-2631</td>\n",
       "      <td>$359,000</td>\n",
       "    </tr>\n",
       "    <tr>\n",
       "      <th>599</th>\n",
       "      <td>130 BERRIGAN DRIVE UNIT#86|Ottawa, Ontario K2J0J3</td>\n",
       "      <td>3</td>\n",
       "      <td>3</td>\n",
       "      <td>Caroline Johnson</td>\n",
       "      <td>613</td>\n",
       "      <td>298-8833</td>\n",
       "      <td>$429,900</td>\n",
       "    </tr>\n",
       "  </tbody>\n",
       "</table>\n",
       "<p>600 rows × 7 columns</p>\n",
       "</div>"
      ],
      "text/plain": [
       "                                               address bedrooms  bathrooms  \\\n",
       "0          23 KENT STREET|Smiths Falls, Ontario K7A1B5        2          2   \n",
       "1    68 A ST LAWRENCE STREET|Morrisburg, Ontario K0...        2          2   \n",
       "2               146 ELK STREET|Renfrew, Ontario K7V0A1        2          2   \n",
       "3            110 MOONSTONE ROAD|Ottawa, Ontario K0A1L0        2          2   \n",
       "4             280 PERCHERON WAY|Ottawa, Ontario K2S1E7        5          5   \n",
       "..                                                 ...      ...        ...   \n",
       "595           996 WEEDMARK ROAD|Jasper, Ontario K0G1G0        0          0   \n",
       "596                 135 OAK LANE|Perth, Ontario K7H3C8        2          2   \n",
       "597             328 TOURING WAY|Ottawa, Ontario K2J6P1        3          3   \n",
       "598      3-3399 PAUL ANKA DRIVE|Ottawa, Ontario K1V9R8        2          2   \n",
       "599  130 BERRIGAN DRIVE UNIT#86|Ottawa, Ontario K2J0J3        3          3   \n",
       "\n",
       "                   agent_name area_code  phone_number       price  \n",
       "0             Kaleigh Duchene       613      803-1996    $349,900  \n",
       "1                 JANET EATON       613      341-1501    $495,000  \n",
       "2               Helen Vincent       613      432-0058    $429,900  \n",
       "3              Chen Lung Chen       613      407-9999    $799,000  \n",
       "4                Sarah Hunter       613      889-0171  $1,450,000  \n",
       "..                        ...       ...           ...         ...  \n",
       "595              Lisa Ritskes       613      285-6611    $349,900  \n",
       "596               Patti Smith       613      866-1014    $725,000  \n",
       "597  Dimitrios Kalogeropoulos       613      883-8823    $788,800  \n",
       "598               Bryce Munro       613      276-2631    $359,000  \n",
       "599          Caroline Johnson       613      298-8833    $429,900  \n",
       "\n",
       "[600 rows x 7 columns]"
      ]
     },
     "execution_count": 48,
     "metadata": {},
     "output_type": "execute_result"
    }
   ],
   "source": [
    "realtor_multiple_pages_df = pd.DataFrame({'address':address, 'bedrooms':bedrooms, ' bathrooms': bathrooms, ' agent_name': agent_name,\n",
    "                   'area_code':area_code, ' phone_number': phone_number, 'price':price})\n",
    "realtor_multiple_pages_df"
   ]
  },
  {
   "cell_type": "markdown",
   "id": "4b9ebf47",
   "metadata": {},
   "source": [
    "## store results in csv"
   ]
  },
  {
   "cell_type": "code",
   "execution_count": 50,
   "id": "8e89102a",
   "metadata": {},
   "outputs": [],
   "source": [
    "realtor_multiple_pages_df.to_csv('realtor_multiple_pages_df.csv',index=False )"
   ]
  },
  {
   "cell_type": "code",
   "execution_count": null,
   "id": "7e7cfdf8",
   "metadata": {},
   "outputs": [],
   "source": []
  }
 ],
 "metadata": {
  "kernelspec": {
   "display_name": "Python 3",
   "language": "python",
   "name": "python3"
  },
  "language_info": {
   "codemirror_mode": {
    "name": "ipython",
    "version": 3
   },
   "file_extension": ".py",
   "mimetype": "text/x-python",
   "name": "python",
   "nbconvert_exporter": "python",
   "pygments_lexer": "ipython3",
   "version": "3.8.8"
  }
 },
 "nbformat": 4,
 "nbformat_minor": 5
}
