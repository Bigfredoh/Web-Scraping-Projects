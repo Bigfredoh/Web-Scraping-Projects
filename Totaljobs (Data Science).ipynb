{
 "cells": [
  {
   "cell_type": "markdown",
   "id": "e2911305",
   "metadata": {},
   "source": [
    "## Importing of Libraries"
   ]
  },
  {
   "cell_type": "code",
   "execution_count": 24,
   "id": "7378fe3a",
   "metadata": {},
   "outputs": [
    {
     "name": "stderr",
     "output_type": "stream",
     "text": [
      "<ipython-input-24-5499812a07d6>:7: DeprecationWarning: executable_path has been deprecated, please pass in a Service object\n",
      "  driver = webdriver.Chrome(executable_path='C:\\drivers\\chromedriver.exe')\n"
     ]
    }
   ],
   "source": [
    "from selenium import webdriver\n",
    "from selenium.webdriver.support.ui import Select\n",
    "import pandas as pd\n",
    "from selenium.webdriver.common.by import By\n",
    "from selenium.webdriver import ActionChains\n",
    "import time\n",
    "driver = webdriver.Chrome(executable_path='C:\\drivers\\chromedriver.exe')\n",
    "driver.get('https://www.totaljobs.com/')\n",
    "driver.maximize_window()"
   ]
  },
  {
   "cell_type": "markdown",
   "id": "76b9f2de",
   "metadata": {},
   "source": [
    "## Automating the Website"
   ]
  },
  {
   "cell_type": "code",
   "execution_count": 25,
   "id": "56242c9c",
   "metadata": {},
   "outputs": [],
   "source": [
    "# Dealing with cookie\n",
    "cookie = driver.find_element(By.XPATH, value='//div[@id=\"ccmgt_explicit_accept\"]')\n",
    "cookie.click()\n",
    "\n",
    "# Inputing the job title\n",
    "job_title = driver.find_element(By.XPATH, value='//input[@placeholder=\"Job title, skill or company\"]')\n",
    "job_title.click()\n",
    "job_title.send_keys('Data Scientist')\n",
    "\n",
    "# Inputing the distance of the job\n",
    "dropdown= Select(driver.find_element(By.XPATH, value='//select[@id=\"Radius\"]'))\n",
    "dropdown.select_by_visible_text(\"30 miles\")\n",
    "\n",
    "# Clicking on the search button\n",
    "search = driver.find_element(By.ID, value='search-button')\n",
    "search.click()\n",
    "time.sleep(2)"
   ]
  },
  {
   "cell_type": "markdown",
   "id": "036bd256",
   "metadata": {},
   "source": [
    "## Scraping the Necessary Infomation from the Site"
   ]
  },
  {
   "cell_type": "code",
   "execution_count": 39,
   "id": "25e986fb",
   "metadata": {},
   "outputs": [],
   "source": [
    "pages = driver.find_element(By.XPATH, value='//div[contains(@class, \"PaginationPages\")]')\n",
    "last_page = int(pages.find_element(By.XPATH, value='//div[contains(@class, \"PaginationPages\")]/a[3]').text)\n",
    "\n",
    "totaljobs_df = pd.DataFrame(columns=['Job Title', 'Company', 'Job Location', 'Salary', 'Published Date'])\n",
    "\n",
    "for j in range(last_page):\n",
    "    time.sleep(5)\n",
    "    job = driver.find_elements(By.XPATH, value='//a[@data-at=\"job-item-title\"]/h2')\n",
    "    company = driver.find_elements(By.XPATH, value='//div[@data-at=\"job-item-company-name\"]')\n",
    "    location = driver.find_elements(By.XPATH, value='//li[@data-at=\"job-item-location\"]')\n",
    "    salary = driver.find_elements(By.XPATH, value='//dl[@data-at=\"job-item-salary-info\"]')\n",
    "    date_published = driver.find_elements(By.XPATH, value='//li[@data-at=\"job-item-timeago\"]')\n",
    "    for i in range(len(job)):\n",
    "        totaljobs_df = totaljobs_df.append({'Job Title': job[i].text, 'Company': company[i].text,\n",
    "                                           'Job Location': location[i].text, 'Salary':salary[i].text,\n",
    "                                            'Published Date':date_published[i].text},\n",
    "                                           ignore_index=True)\n",
    "    next_button = driver.find_element(By.XPATH, value='//a[@data-at=\"pagination-next\"]')\n",
    "    next_button.click()\n",
    "    time.sleep(5)\n",
    "driver.quit()\n"
   ]
  },
  {
   "cell_type": "markdown",
   "id": "084b50f9",
   "metadata": {},
   "source": [
    "## Saving the Scraped Data in a CSV File"
   ]
  },
  {
   "cell_type": "code",
   "execution_count": 40,
   "id": "9a3e9122",
   "metadata": {},
   "outputs": [],
   "source": [
    "totaljobs_df.to_csv('Totaljobs_webscraping', index=False)"
   ]
  },
  {
   "cell_type": "code",
   "execution_count": 41,
   "id": "54d6f0b8",
   "metadata": {},
   "outputs": [
    {
     "data": {
      "text/html": [
       "<div>\n",
       "<style scoped>\n",
       "    .dataframe tbody tr th:only-of-type {\n",
       "        vertical-align: middle;\n",
       "    }\n",
       "\n",
       "    .dataframe tbody tr th {\n",
       "        vertical-align: top;\n",
       "    }\n",
       "\n",
       "    .dataframe thead th {\n",
       "        text-align: right;\n",
       "    }\n",
       "</style>\n",
       "<table border=\"1\" class=\"dataframe\">\n",
       "  <thead>\n",
       "    <tr style=\"text-align: right;\">\n",
       "      <th></th>\n",
       "      <th>Job Title</th>\n",
       "      <th>Company</th>\n",
       "      <th>Job Location</th>\n",
       "      <th>Salary</th>\n",
       "      <th>Published Date</th>\n",
       "    </tr>\n",
       "  </thead>\n",
       "  <tbody>\n",
       "    <tr>\n",
       "      <th>0</th>\n",
       "      <td>Associate Data Scientist</td>\n",
       "      <td>DWP Digital</td>\n",
       "      <td>LS1, Leeds</td>\n",
       "      <td>£31989 - £34285 per annum</td>\n",
       "      <td>Today</td>\n",
       "    </tr>\n",
       "    <tr>\n",
       "      <th>1</th>\n",
       "      <td>Data Scientist - NLP / Semantic Modelling / Le...</td>\n",
       "      <td>Shift F5</td>\n",
       "      <td>City of London, London</td>\n",
       "      <td>£350 - £450 per day</td>\n",
       "      <td>Today</td>\n",
       "    </tr>\n",
       "    <tr>\n",
       "      <th>2</th>\n",
       "      <td>Data Scientist - Drug Discovery - OUTSIDE IR35</td>\n",
       "      <td>Hays Life Sciences</td>\n",
       "      <td>CB2, Cambridge</td>\n",
       "      <td>£265.00 - £340.00 per day</td>\n",
       "      <td>Today</td>\n",
       "    </tr>\n",
       "    <tr>\n",
       "      <th>3</th>\n",
       "      <td>Associate Data Scientist</td>\n",
       "      <td>DWP Digital</td>\n",
       "      <td>M1, Manchester</td>\n",
       "      <td>£31989 - £34285 per annum</td>\n",
       "      <td>Today</td>\n",
       "    </tr>\n",
       "    <tr>\n",
       "      <th>4</th>\n",
       "      <td>Data Scientist</td>\n",
       "      <td>BGL Insurance</td>\n",
       "      <td>Orton Southgate, PE2 6YS</td>\n",
       "      <td>Unspecified</td>\n",
       "      <td>Recently</td>\n",
       "    </tr>\n",
       "    <tr>\n",
       "      <th>...</th>\n",
       "      <td>...</td>\n",
       "      <td>...</td>\n",
       "      <td>...</td>\n",
       "      <td>...</td>\n",
       "      <td>...</td>\n",
       "    </tr>\n",
       "    <tr>\n",
       "      <th>398</th>\n",
       "      <td>Senior Data Analyst</td>\n",
       "      <td>Method-Resourcing</td>\n",
       "      <td>London</td>\n",
       "      <td>£40000 - £50000 per annum</td>\n",
       "      <td>Posted 27 days ago</td>\n",
       "    </tr>\n",
       "    <tr>\n",
       "      <th>399</th>\n",
       "      <td>Senior Data Analyst</td>\n",
       "      <td>Method-Resourcing</td>\n",
       "      <td>London</td>\n",
       "      <td>£50000 - £55000 per annum</td>\n",
       "      <td>Posted 27 days ago</td>\n",
       "    </tr>\n",
       "    <tr>\n",
       "      <th>400</th>\n",
       "      <td>Senior Data Analyst - Technical</td>\n",
       "      <td>Method-Resourcing</td>\n",
       "      <td>London</td>\n",
       "      <td>£45000 - £50000 per annum</td>\n",
       "      <td>Posted 27 days ago</td>\n",
       "    </tr>\n",
       "    <tr>\n",
       "      <th>401</th>\n",
       "      <td>Senior Machine Learning Engineer - 100% remote</td>\n",
       "      <td>It Human Resources Plc</td>\n",
       "      <td>London</td>\n",
       "      <td>£63252.70 - £81324.90 per annum</td>\n",
       "      <td>Posted 24 days ago</td>\n",
       "    </tr>\n",
       "    <tr>\n",
       "      <th>402</th>\n",
       "      <td>Senior Data Analyst</td>\n",
       "      <td>Method-Resourcing</td>\n",
       "      <td>London</td>\n",
       "      <td>£50000 - £55000 per annum</td>\n",
       "      <td>Posted 34 days ago</td>\n",
       "    </tr>\n",
       "  </tbody>\n",
       "</table>\n",
       "<p>403 rows × 5 columns</p>\n",
       "</div>"
      ],
      "text/plain": [
       "                                             Job Title  \\\n",
       "0                             Associate Data Scientist   \n",
       "1    Data Scientist - NLP / Semantic Modelling / Le...   \n",
       "2       Data Scientist - Drug Discovery - OUTSIDE IR35   \n",
       "3                             Associate Data Scientist   \n",
       "4                                       Data Scientist   \n",
       "..                                                 ...   \n",
       "398                                Senior Data Analyst   \n",
       "399                                Senior Data Analyst   \n",
       "400                    Senior Data Analyst - Technical   \n",
       "401     Senior Machine Learning Engineer - 100% remote   \n",
       "402                                Senior Data Analyst   \n",
       "\n",
       "                    Company              Job Location  \\\n",
       "0               DWP Digital                LS1, Leeds   \n",
       "1                  Shift F5    City of London, London   \n",
       "2        Hays Life Sciences            CB2, Cambridge   \n",
       "3               DWP Digital            M1, Manchester   \n",
       "4             BGL Insurance  Orton Southgate, PE2 6YS   \n",
       "..                      ...                       ...   \n",
       "398       Method-Resourcing                    London   \n",
       "399       Method-Resourcing                    London   \n",
       "400       Method-Resourcing                    London   \n",
       "401  It Human Resources Plc                    London   \n",
       "402       Method-Resourcing                    London   \n",
       "\n",
       "                              Salary      Published Date  \n",
       "0          £31989 - £34285 per annum               Today  \n",
       "1                £350 - £450 per day               Today  \n",
       "2          £265.00 - £340.00 per day               Today  \n",
       "3          £31989 - £34285 per annum               Today  \n",
       "4                        Unspecified            Recently  \n",
       "..                               ...                 ...  \n",
       "398        £40000 - £50000 per annum  Posted 27 days ago  \n",
       "399        £50000 - £55000 per annum  Posted 27 days ago  \n",
       "400        £45000 - £50000 per annum  Posted 27 days ago  \n",
       "401  £63252.70 - £81324.90 per annum  Posted 24 days ago  \n",
       "402        £50000 - £55000 per annum  Posted 34 days ago  \n",
       "\n",
       "[403 rows x 5 columns]"
      ]
     },
     "execution_count": 41,
     "metadata": {},
     "output_type": "execute_result"
    }
   ],
   "source": [
    "totaljobs_df"
   ]
  },
  {
   "cell_type": "code",
   "execution_count": null,
   "id": "24237b5b",
   "metadata": {},
   "outputs": [],
   "source": []
  }
 ],
 "metadata": {
  "kernelspec": {
   "display_name": "Python 3",
   "language": "python",
   "name": "python3"
  },
  "language_info": {
   "codemirror_mode": {
    "name": "ipython",
    "version": 3
   },
   "file_extension": ".py",
   "mimetype": "text/x-python",
   "name": "python",
   "nbconvert_exporter": "python",
   "pygments_lexer": "ipython3",
   "version": "3.8.8"
  }
 },
 "nbformat": 4,
 "nbformat_minor": 5
}
